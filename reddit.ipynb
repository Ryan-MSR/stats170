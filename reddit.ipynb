{
 "cells": [
  {
   "cell_type": "code",
   "execution_count": 33,
   "metadata": {
    "collapsed": true
   },
   "outputs": [],
   "source": [
    "import requests\n",
    "import pandas as pd\n",
    "import praw\n",
    "from datetime import datetime\n",
    "from psaw import PushshiftAPI\n",
    "\n",
    "auth = requests.auth.HTTPBasicAuth('6RdGnDQNl5i7BZAf4BMdRQ', '-3EUkG2R8aw1g-Yw3aGwGodENH673w')\n",
    "data = {'grant_type': 'password',\n",
    "        'username': 'Ryan-thePatrickStar',\n",
    "        'password': 'meng123321'}\n",
    "\n",
    "reddit = praw.Reddit(\n",
    "    client_id=\"6RdGnDQNl5i7BZAf4BMdRQ\",\n",
    "    client_secret=\"-3EUkG2R8aw1g-Yw3aGwGodENH673w\",\n",
    "    password=\"meng123321\",\n",
    "    user_agent=\"myp_0.1\",\n",
    "    username=\"Ryan-thePatrickStar\",\n",
    ")\n",
    "api = PushshiftAPI(reddit)"
   ]
  },
  {
   "cell_type": "code",
   "execution_count": 23,
   "outputs": [],
   "source": [
    "def time_convertor(timestamp):\n",
    "    now = datetime.fromtimestamp(timestamp)\n",
    "    return now.strftime(\"%Y-%m-%d\")"
   ],
   "metadata": {
    "collapsed": false,
    "pycharm": {
     "name": "#%%\n"
    }
   }
  },
  {
   "cell_type": "code",
   "execution_count": null,
   "outputs": [],
   "source": [
    "sub = api.search_submissions(limit=50000,subreddit=\"UberEATS\")\n",
    "detail = [[i.id, time_convertor(i.created_utc), i.title, i.subreddit,i.upvote_ratio, i.selftext] for i in sub]\n",
    "df = pd.DataFrame(data=detail,columns=['id','date','title', 'subreddit', 'upvote', 'text'])\n",
    "df.to_csv()"
   ],
   "metadata": {
    "collapsed": false,
    "pycharm": {
     "name": "#%%\n"
    }
   }
  }
 ],
 "metadata": {
  "kernelspec": {
   "display_name": "Python 3",
   "language": "python",
   "name": "python3"
  },
  "language_info": {
   "codemirror_mode": {
    "name": "ipython",
    "version": 2
   },
   "file_extension": ".py",
   "mimetype": "text/x-python",
   "name": "python",
   "nbconvert_exporter": "python",
   "pygments_lexer": "ipython2",
   "version": "2.7.6"
  }
 },
 "nbformat": 4,
 "nbformat_minor": 0
}